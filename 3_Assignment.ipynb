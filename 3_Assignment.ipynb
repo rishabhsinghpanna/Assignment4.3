{
 "cells": [
  {
   "cell_type": "markdown",
   "id": "1eeeae3f-4ef8-4a30-adb6-5a4915a2f920",
   "metadata": {},
   "source": [
    "Q1. What is Abstraction in OOps? Explain with an example."
   ]
  },
  {
   "cell_type": "markdown",
   "id": "8123438a-6324-4fb3-b1b4-2daca88e4ce5",
   "metadata": {},
   "source": [
    "In object-oriented programming (OOP), abstraction is a fundamental concept that allows us to represent complex real-world entities as simplified and manageable models within a program. It involves focusing on the essential features and behaviors of an object while hiding unnecessary details that are not relevant to its purpose."
   ]
  },
  {
   "cell_type": "markdown",
   "id": "49c9e080-5886-48e5-b104-54a5fe802dfc",
   "metadata": {},
   "source": [
    "Abstraction is used to hide the internal functionality of the function from the users. The users only interact with the basic implementation of the function, but inner working is hidden. User is familiar with that \"what function does\" but they don't know \"how it does.\"\n"
   ]
  },
  {
   "cell_type": "code",
   "execution_count": 15,
   "id": "a02a4718-53f9-4879-8bd2-dfac95736720",
   "metadata": {},
   "outputs": [],
   "source": [
    "## Example:\n",
    "import abc  \n",
    "class Car(ABC):   \n",
    "    def mileage(self):   \n",
    "        pass  \n",
    " \n",
    "@abc.abstractmethod\n",
    "class Tesla(Car):   \n",
    "    def mileage(self):   \n",
    "        print(\"The mileage is 30kmph\")   \n",
    " \n",
    "\n",
    "@abc.abstractmethod\n",
    "class Renault(Car):   \n",
    "    def mileage(self):   \n",
    "            print(\"The mileage is 27kmph \")   "
   ]
  },
  {
   "cell_type": "code",
   "execution_count": 16,
   "id": "98234e2a-b3e0-4d16-95b1-dc17db80b6f6",
   "metadata": {},
   "outputs": [
    {
     "name": "stdout",
     "output_type": "stream",
     "text": [
      "The mileage is 30kmph\n"
     ]
    }
   ],
   "source": [
    "t= Tesla ()   \n",
    "t.mileage()      "
   ]
  },
  {
   "cell_type": "code",
   "execution_count": 17,
   "id": "6db806e8-bc43-4722-ac1e-0473ac6fd43d",
   "metadata": {},
   "outputs": [
    {
     "name": "stdout",
     "output_type": "stream",
     "text": [
      "The mileage is 27kmph \n"
     ]
    }
   ],
   "source": [
    "r = Renault()   \n",
    "r.mileage()"
   ]
  },
  {
   "cell_type": "code",
   "execution_count": null,
   "id": "f4abaa63-757e-4f93-9524-a6a064ac0a97",
   "metadata": {},
   "outputs": [],
   "source": []
  },
  {
   "cell_type": "code",
   "execution_count": null,
   "id": "6cb5794c-33d7-4b52-8f5f-1b5b410501f5",
   "metadata": {},
   "outputs": [],
   "source": []
  },
  {
   "cell_type": "markdown",
   "id": "125cced4-f83d-47e9-b7e1-d6d3482aba5c",
   "metadata": {},
   "source": [
    "Q2. Differentiate between Abstraction and Encapsulation. Explain with an example."
   ]
  },
  {
   "cell_type": "markdown",
   "id": "539ede38-8208-4727-a161-96c01ceb623f",
   "metadata": {},
   "source": [
    "Encapsulation is a technique to bind all the data in a single unit along with methodds or functions that operate on that data. With the help of encapsulation we bind all the internal workings together. Its just like capsule in which we can store multiple things and consume them."
   ]
  },
  {
   "cell_type": "markdown",
   "id": "e5ecde0e-4d56-4640-af5b-80a925c8d423",
   "metadata": {},
   "source": [
    "Let's take an example of a car. In a car we have so many functionalities like drive(), stop(), setSpeed(number) etc. which helps us to control the car while driving, apart from this we have various properties of a car like model, speed, engine, speedLimit etc. which gives us the various information about the car. All these functions and properties are bound in a single unit called a car."
   ]
  },
  {
   "cell_type": "markdown",
   "id": "276057d9-3e59-41c1-b5f6-9457dd56ac69",
   "metadata": {},
   "source": [
    "Abstraction is a way to hide complexities and give a simple user interface to the user. With the help of abstraction, we hide internal complexities and make the system more user-friendly.\n",
    "\n",
    "In a car, we have so many things to understand the abstraction, when we use brakes we don't know how it works, when we rotate the steering wheel we don't know how it turns the car. In abstraction, we just know what things do rather than how they do. All the complexities are hidden and only a simple user interface is provided to work."
   ]
  },
  {
   "cell_type": "markdown",
   "id": "a534c34c-b561-4d9d-ae83-a041aeac0a30",
   "metadata": {},
   "source": [
    "Encapsulation is about hiding the information."
   ]
  },
  {
   "cell_type": "markdown",
   "id": "2ed7ac96-1b6d-463a-93af-94392a8ed001",
   "metadata": {},
   "source": [
    "Abstraction is about hiding the implementation. or internal working."
   ]
  },
  {
   "cell_type": "markdown",
   "id": "9950faaa-51da-4214-b520-edf92fa5ed1a",
   "metadata": {},
   "source": [
    "We need encapsulation to write the modular code in which related properties and methods are defined in a single unit.\n"
   ]
  },
  {
   "cell_type": "markdown",
   "id": "ecf650bd-896d-487b-925c-4e76407308bb",
   "metadata": {},
   "source": [
    "Abstraction is all about hiding complexities from the user to make applications easier to interact with."
   ]
  },
  {
   "cell_type": "code",
   "execution_count": 18,
   "id": "d6aecad2-37c6-45cd-a662-4f3251480277",
   "metadata": {},
   "outputs": [
    {
     "name": "stdout",
     "output_type": "stream",
     "text": [
      "The mileage is 27kmph \n"
     ]
    }
   ],
   "source": [
    "## Example of Abstraction:\n",
    "\n",
    "import abc  \n",
    "class Car(ABC):   \n",
    "    def mileage(self):   \n",
    "        pass  \n",
    " \n",
    "@abc.abstractmethod\n",
    "class Tesla(Car):   \n",
    "    def mileage(self):   \n",
    "        print(\"The mileage is 30kmph\")   \n",
    " \n",
    "\n",
    "@abc.abstractmethod\n",
    "class Renault(Car):   \n",
    "    def mileage(self):   \n",
    "            print(\"The mileage is 27kmph \")   \n",
    "            \n",
    "r = Renault()   \n",
    "r.mileage()            "
   ]
  },
  {
   "cell_type": "code",
   "execution_count": null,
   "id": "7e50da18-f6f5-49b0-afd1-c807afc5c6cf",
   "metadata": {},
   "outputs": [],
   "source": []
  },
  {
   "cell_type": "code",
   "execution_count": null,
   "id": "1955849a-c109-4194-97c3-d390abb90a68",
   "metadata": {},
   "outputs": [],
   "source": []
  },
  {
   "cell_type": "code",
   "execution_count": 19,
   "id": "233681d2-1ef5-4979-852b-c728bf1e0afb",
   "metadata": {},
   "outputs": [],
   "source": [
    "class bank_account :\n",
    "    def __init__(self , balance):\n",
    "        self.__balance = balance \n",
    "        \n",
    "        \n",
    "    def deposit(self , amount) :\n",
    "        self.__balance = self.__balance + amount\n",
    "        \n",
    "        \n",
    "    def withdraw(self , amount) :\n",
    "        if  self.__balance >=amount :\n",
    "            self.__balance = self.__balance - amount\n",
    "            return True\n",
    "        else:\n",
    "            return False\n",
    "        \n",
    "        \n",
    "        \n",
    "    def get_balance(self) :\n",
    "            return  self.__balance"
   ]
  },
  {
   "cell_type": "code",
   "execution_count": 20,
   "id": "d883cc69-93c0-45ce-b94e-ccf156842740",
   "metadata": {},
   "outputs": [],
   "source": [
    "rish = bank_account(1000)"
   ]
  },
  {
   "cell_type": "code",
   "execution_count": 22,
   "id": "8efefdcd-17f9-42a3-92c8-55fc3458c80c",
   "metadata": {},
   "outputs": [],
   "source": [
    "rish.deposit(75000)\n"
   ]
  },
  {
   "cell_type": "code",
   "execution_count": 23,
   "id": "4283fa31-03f7-4d87-8186-bfde18d5e971",
   "metadata": {},
   "outputs": [
    {
     "data": {
      "text/plain": [
       "81000"
      ]
     },
     "execution_count": 23,
     "metadata": {},
     "output_type": "execute_result"
    }
   ],
   "source": [
    "rish.get_balance()"
   ]
  },
  {
   "cell_type": "code",
   "execution_count": null,
   "id": "e3fcaed1-c6e4-4796-9639-20e7f71db278",
   "metadata": {},
   "outputs": [],
   "source": []
  },
  {
   "cell_type": "code",
   "execution_count": null,
   "id": "ccafb399-782d-4d5c-8d79-16c0be97541b",
   "metadata": {},
   "outputs": [],
   "source": []
  },
  {
   "cell_type": "markdown",
   "id": "45b28373-6865-4306-a34a-1e21843bcdd2",
   "metadata": {},
   "source": [
    "Q3. What is abc module in python? Why is it used?"
   ]
  },
  {
   "cell_type": "markdown",
   "id": "dcfb0f0f-f9b4-4b75-8c91-ec20f11b50f8",
   "metadata": {},
   "source": [
    "'abc' works by marking methods of the base class as abstract. This is done by @absttractmethod decorator. A concrete class which is a sub class of such abstract base class then implements the abstract base by overriding its abstract methods.\n",
    "\n",
    "The abc module defines ABCMeta class which is a metaclass for defining abstract base class. Following example defines Shape class as an abstract base class using ABCMeta. The shape class has area() method decorated by abstractmethod.\n",
    "\n",
    "A Rectangle class now uses above Shape class as its parent and implementing the abstract area() method. Since it is a concrete class, it can be instantiated and imlemented area() method can be called."
   ]
  },
  {
   "cell_type": "markdown",
   "id": "80834905-e306-45e3-a0d9-58ac1bc804cc",
   "metadata": {},
   "source": [
    "Note the abstract base class may have more than one abstract methods. The child class must implement all of them failing which TypeError will be raised.\n",
    "\n",
    "the abc module also defines ABC helper class which can be used instead of ABCMeta class in definition of abstract base class."
   ]
  },
  {
   "cell_type": "code",
   "execution_count": 24,
   "id": "80421421-7952-4610-939d-b7c9e3900d4c",
   "metadata": {},
   "outputs": [
    {
     "name": "stdout",
     "output_type": "stream",
     "text": [
      "area:  200\n"
     ]
    }
   ],
   "source": [
    "import abc\n",
    "class Shape(metaclass=abc.ABCMeta):\n",
    "   @abc.abstractmethod\n",
    "   def area(self):\n",
    "      pass\n",
    "class Rectangle(Shape):\n",
    "   def __init__(self, x,y):\n",
    "      self.l = x\n",
    "      self.b=y\n",
    "   def area(self):\n",
    "      return self.l*self.b\n",
    "r = Rectangle(10,20)\n",
    "print ('area: ',r.area())"
   ]
  },
  {
   "cell_type": "code",
   "execution_count": null,
   "id": "c00d6104-5844-4dfc-8eba-666e9a5a74f1",
   "metadata": {},
   "outputs": [],
   "source": []
  },
  {
   "cell_type": "code",
   "execution_count": null,
   "id": "e39cab08-ad0a-40d6-b106-8263674b4344",
   "metadata": {},
   "outputs": [],
   "source": []
  },
  {
   "cell_type": "markdown",
   "id": "04b74b69-25c0-4661-8925-7b2793cf2a09",
   "metadata": {},
   "source": [
    "Q4. How can we achieve data abstraction?"
   ]
  },
  {
   "cell_type": "markdown",
   "id": "30d6289e-ded7-4a66-aea6-9cb4c2e0229d",
   "metadata": {},
   "source": [
    "In Python, abstraction can be achieved by using abstract classes and interfaces.\n",
    "\n",
    "A class that consists of one or more abstract method is called the abstract class. Abstract methods do not contain their implementation. Abstract class can be inherited by the subclass and abstract method gets its definition in the subclass. Abstraction classes are meant to be the blueprint of the other class. An abstract class can be useful when we are designing large functions. An abstract class is also helpful to provide the standard interface for different implementations of components. Python provides the abc module to use the abstraction in the Python program"
   ]
  },
  {
   "cell_type": "code",
   "execution_count": 26,
   "id": "f54e05d2-f407-4299-a58a-f40fb538c30c",
   "metadata": {},
   "outputs": [],
   "source": [
    "from abc import ABC  \n",
    "class ClassName(ABC): \n",
    "    pass\n",
    "    "
   ]
  },
  {
   "cell_type": "code",
   "execution_count": null,
   "id": "39a47e72-e306-48f9-a160-3764669fa936",
   "metadata": {},
   "outputs": [],
   "source": []
  },
  {
   "cell_type": "code",
   "execution_count": null,
   "id": "77ba33df-9fba-41fc-bbac-352cb57c7016",
   "metadata": {},
   "outputs": [],
   "source": []
  },
  {
   "cell_type": "markdown",
   "id": "e0a6341e-c716-41c9-bf70-1e3f1cdbb589",
   "metadata": {},
   "source": [
    "Q5. Can we create an instance of an abstract class? Explain your answer."
   ]
  },
  {
   "cell_type": "markdown",
   "id": "04b0a877-44a0-4148-9f43-2570344e02ec",
   "metadata": {},
   "source": [
    "No, we cannot create an instance of an abstract class in Python. An abstract class is a class that is meant to be inherited from but not instantiated directly. It serves as a blueprint for other classes and defines common behavior or attributes that its subclasses should implement.\n",
    "\n",
    "Python provides a module called abc (Abstract Base Classes) which allows us to define abstract classes using the ABC metaclass and the abstractmethod decorator. When a class inherits from an abstract class, it must implement all the abstract methods defined in the abstract class, or it will also be considered abstract and cannot be instantiated.\n",
    "\n",
    "If we try to create an instance of an abstract class directly, Python will raise a TypeError with the message \"Can't instantiate abstract class.\" This is because the abstract class is incomplete and lacks the implementation of one or more abstract methods.\n",
    "\n"
   ]
  },
  {
   "cell_type": "code",
   "execution_count": null,
   "id": "bdfd361b-ab9a-41b9-825b-110b4e5ba2c8",
   "metadata": {},
   "outputs": [],
   "source": []
  }
 ],
 "metadata": {
  "kernelspec": {
   "display_name": "Python 3 (ipykernel)",
   "language": "python",
   "name": "python3"
  },
  "language_info": {
   "codemirror_mode": {
    "name": "ipython",
    "version": 3
   },
   "file_extension": ".py",
   "mimetype": "text/x-python",
   "name": "python",
   "nbconvert_exporter": "python",
   "pygments_lexer": "ipython3",
   "version": "3.10.8"
  }
 },
 "nbformat": 4,
 "nbformat_minor": 5
}
